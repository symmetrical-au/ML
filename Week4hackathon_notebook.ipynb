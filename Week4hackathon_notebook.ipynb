{
 "cells": [
  {
   "cell_type": "code",
   "execution_count": 1,
   "id": "37de48e7",
   "metadata": {
    "_cell_guid": "b1076dfc-b9ad-4769-8c92-a6c4dae69d19",
    "_uuid": "8f2839f25d086af736a60e9eeb907d3b93b6e0e5",
    "execution": {
     "iopub.execute_input": "2023-06-23T18:13:59.706848Z",
     "iopub.status.busy": "2023-06-23T18:13:59.706189Z",
     "iopub.status.idle": "2023-06-23T18:14:01.382857Z",
     "shell.execute_reply": "2023-06-23T18:14:01.381644Z"
    },
    "papermill": {
     "duration": 1.69526,
     "end_time": "2023-06-23T18:14:01.385529",
     "exception": false,
     "start_time": "2023-06-23T18:13:59.690269",
     "status": "completed"
    },
    "tags": []
   },
   "outputs": [
    {
     "name": "stdout",
     "output_type": "stream",
     "text": [
      "/kaggle/input/practice-hackathon/sample_submission.csv\n",
      "/kaggle/input/practice-hackathon/Train.csv\n",
      "/kaggle/input/practice-hackathon/Test.csv\n"
     ]
    }
   ],
   "source": [
    "# This Python 3 environment comes with many helpful analytics libraries installed\n",
    "# It is defined by the kaggle/python Docker image: https://github.com/kaggle/docker-python\n",
    "# For example, here's several helpful packages to load\n",
    "\n",
    "import numpy as np # linear algebra\n",
    "import pandas as pd # data processing, CSV file I/O (e.g. pd.read_csv)\n",
    "from sklearn import preprocessing\n",
    "from sklearn.model_selection import train_test_split\n",
    "from sklearn.linear_model import LinearRegression\n",
    "from tqdm.auto import tqdm\n",
    "from sklearn.metrics import mean_squared_error\n",
    "\n",
    "# Input data files are available in the read-only \"../input/\" directory\n",
    "# For example, running this (by clicking run or pressing Shift+Enter) will list all files under the input directory\n",
    "\n",
    "import os\n",
    "for dirname, _, filenames in os.walk('/kaggle/input'):\n",
    "    for filename in filenames:\n",
    "        print(os.path.join(dirname, filename))\n",
    "\n",
    "# You can write up to 20GB to the current directory (/kaggle/working/) that gets preserved as output when you create a version using \"Save & Run All\" \n",
    "# You can also write temporary files to /kaggle/temp/, but they won't be saved outside of the current session"
   ]
  },
  {
   "cell_type": "code",
   "execution_count": 2,
   "id": "40558bae",
   "metadata": {
    "execution": {
     "iopub.execute_input": "2023-06-23T18:14:01.412289Z",
     "iopub.status.busy": "2023-06-23T18:14:01.411261Z",
     "iopub.status.idle": "2023-06-23T18:14:01.442461Z",
     "shell.execute_reply": "2023-06-23T18:14:01.441261Z"
    },
    "papermill": {
     "duration": 0.047593,
     "end_time": "2023-06-23T18:14:01.445478",
     "exception": false,
     "start_time": "2023-06-23T18:14:01.397885",
     "status": "completed"
    },
    "tags": []
   },
   "outputs": [],
   "source": [
    "train_df = pd.read_csv(\"/kaggle/input/practice-hackathon/Train.csv\")"
   ]
  },
  {
   "cell_type": "code",
   "execution_count": 3,
   "id": "f85c6a27",
   "metadata": {
    "execution": {
     "iopub.execute_input": "2023-06-23T18:14:01.471743Z",
     "iopub.status.busy": "2023-06-23T18:14:01.471371Z",
     "iopub.status.idle": "2023-06-23T18:14:01.476796Z",
     "shell.execute_reply": "2023-06-23T18:14:01.475602Z"
    },
    "papermill": {
     "duration": 0.021499,
     "end_time": "2023-06-23T18:14:01.479293",
     "exception": false,
     "start_time": "2023-06-23T18:14:01.457794",
     "status": "completed"
    },
    "tags": []
   },
   "outputs": [
    {
     "name": "stdout",
     "output_type": "stream",
     "text": [
      "(3132, 9)\n"
     ]
    }
   ],
   "source": [
    "print(train_df.shape)"
   ]
  },
  {
   "cell_type": "code",
   "execution_count": 4,
   "id": "ed6de699",
   "metadata": {
    "execution": {
     "iopub.execute_input": "2023-06-23T18:14:01.505628Z",
     "iopub.status.busy": "2023-06-23T18:14:01.505142Z",
     "iopub.status.idle": "2023-06-23T18:14:01.544071Z",
     "shell.execute_reply": "2023-06-23T18:14:01.542825Z"
    },
    "papermill": {
     "duration": 0.055199,
     "end_time": "2023-06-23T18:14:01.546768",
     "exception": false,
     "start_time": "2023-06-23T18:14:01.491569",
     "status": "completed"
    },
    "tags": []
   },
   "outputs": [
    {
     "data": {
      "text/html": [
       "<div>\n",
       "<style scoped>\n",
       "    .dataframe tbody tr th:only-of-type {\n",
       "        vertical-align: middle;\n",
       "    }\n",
       "\n",
       "    .dataframe tbody tr th {\n",
       "        vertical-align: top;\n",
       "    }\n",
       "\n",
       "    .dataframe thead th {\n",
       "        text-align: right;\n",
       "    }\n",
       "</style>\n",
       "<table border=\"1\" class=\"dataframe\">\n",
       "  <thead>\n",
       "    <tr style=\"text-align: right;\">\n",
       "      <th></th>\n",
       "      <th>A</th>\n",
       "      <th>B</th>\n",
       "      <th>C</th>\n",
       "      <th>D</th>\n",
       "      <th>E</th>\n",
       "      <th>F</th>\n",
       "      <th>G</th>\n",
       "      <th>H</th>\n",
       "      <th>Target</th>\n",
       "    </tr>\n",
       "  </thead>\n",
       "  <tbody>\n",
       "    <tr>\n",
       "      <th>0</th>\n",
       "      <td>F</td>\n",
       "      <td>0.615</td>\n",
       "      <td>0.455</td>\n",
       "      <td>0.135</td>\n",
       "      <td>1.0590</td>\n",
       "      <td>0.4735</td>\n",
       "      <td>0.2630</td>\n",
       "      <td>0.274</td>\n",
       "      <td>9</td>\n",
       "    </tr>\n",
       "    <tr>\n",
       "      <th>1</th>\n",
       "      <td>F</td>\n",
       "      <td>0.515</td>\n",
       "      <td>0.395</td>\n",
       "      <td>0.140</td>\n",
       "      <td>0.6860</td>\n",
       "      <td>0.2810</td>\n",
       "      <td>0.1255</td>\n",
       "      <td>0.220</td>\n",
       "      <td>12</td>\n",
       "    </tr>\n",
       "    <tr>\n",
       "      <th>2</th>\n",
       "      <td>M</td>\n",
       "      <td>0.660</td>\n",
       "      <td>0.530</td>\n",
       "      <td>0.175</td>\n",
       "      <td>1.5830</td>\n",
       "      <td>0.7395</td>\n",
       "      <td>0.3505</td>\n",
       "      <td>0.405</td>\n",
       "      <td>10</td>\n",
       "    </tr>\n",
       "    <tr>\n",
       "      <th>3</th>\n",
       "      <td>M</td>\n",
       "      <td>0.455</td>\n",
       "      <td>0.365</td>\n",
       "      <td>0.095</td>\n",
       "      <td>0.5140</td>\n",
       "      <td>0.2245</td>\n",
       "      <td>0.1010</td>\n",
       "      <td>0.150</td>\n",
       "      <td>15</td>\n",
       "    </tr>\n",
       "    <tr>\n",
       "      <th>4</th>\n",
       "      <td>M</td>\n",
       "      <td>0.495</td>\n",
       "      <td>0.400</td>\n",
       "      <td>0.155</td>\n",
       "      <td>0.8085</td>\n",
       "      <td>0.2345</td>\n",
       "      <td>0.1155</td>\n",
       "      <td>0.350</td>\n",
       "      <td>6</td>\n",
       "    </tr>\n",
       "  </tbody>\n",
       "</table>\n",
       "</div>"
      ],
      "text/plain": [
       "   A      B      C      D       E       F       G      H  Target\n",
       "0  F  0.615  0.455  0.135  1.0590  0.4735  0.2630  0.274       9\n",
       "1  F  0.515  0.395  0.140  0.6860  0.2810  0.1255  0.220      12\n",
       "2  M  0.660  0.530  0.175  1.5830  0.7395  0.3505  0.405      10\n",
       "3  M  0.455  0.365  0.095  0.5140  0.2245  0.1010  0.150      15\n",
       "4  M  0.495  0.400  0.155  0.8085  0.2345  0.1155  0.350       6"
      ]
     },
     "execution_count": 4,
     "metadata": {},
     "output_type": "execute_result"
    }
   ],
   "source": [
    "train_df.head()"
   ]
  },
  {
   "cell_type": "code",
   "execution_count": 5,
   "id": "91356d73",
   "metadata": {
    "execution": {
     "iopub.execute_input": "2023-06-23T18:14:01.573819Z",
     "iopub.status.busy": "2023-06-23T18:14:01.573452Z",
     "iopub.status.idle": "2023-06-23T18:14:01.580400Z",
     "shell.execute_reply": "2023-06-23T18:14:01.579357Z"
    },
    "papermill": {
     "duration": 0.023343,
     "end_time": "2023-06-23T18:14:01.582916",
     "exception": false,
     "start_time": "2023-06-23T18:14:01.559573",
     "status": "completed"
    },
    "tags": []
   },
   "outputs": [
    {
     "data": {
      "text/plain": [
       "Index(['A', 'B', 'C', 'D', 'E', 'F', 'G', 'H', 'Target'], dtype='object')"
      ]
     },
     "execution_count": 5,
     "metadata": {},
     "output_type": "execute_result"
    }
   ],
   "source": [
    "train_df.columns"
   ]
  },
  {
   "cell_type": "code",
   "execution_count": 6,
   "id": "7d359c87",
   "metadata": {
    "execution": {
     "iopub.execute_input": "2023-06-23T18:14:01.610539Z",
     "iopub.status.busy": "2023-06-23T18:14:01.609741Z",
     "iopub.status.idle": "2023-06-23T18:14:01.624021Z",
     "shell.execute_reply": "2023-06-23T18:14:01.623195Z"
    },
    "papermill": {
     "duration": 0.030475,
     "end_time": "2023-06-23T18:14:01.626100",
     "exception": false,
     "start_time": "2023-06-23T18:14:01.595625",
     "status": "completed"
    },
    "tags": []
   },
   "outputs": [
    {
     "data": {
      "text/plain": [
       "array([0, 2, 1])"
      ]
     },
     "execution_count": 6,
     "metadata": {},
     "output_type": "execute_result"
    }
   ],
   "source": [
    "## Label encoding column A of our dataset\n",
    "from sklearn import preprocessing\n",
    "  \n",
    "# label_encoder object knows \n",
    "# how to understand word labels.\n",
    "label_encoder = preprocessing.LabelEncoder()\n",
    "  \n",
    "# Encode labels in column 'species'.\n",
    "train_df['A']= label_encoder.fit_transform(train_df['A'])\n",
    "  \n",
    "train_df['A'].unique()"
   ]
  },
  {
   "cell_type": "code",
   "execution_count": 7,
   "id": "e18e8b48",
   "metadata": {
    "execution": {
     "iopub.execute_input": "2023-06-23T18:14:01.653993Z",
     "iopub.status.busy": "2023-06-23T18:14:01.653289Z",
     "iopub.status.idle": "2023-06-23T18:14:01.665171Z",
     "shell.execute_reply": "2023-06-23T18:14:01.663972Z"
    },
    "papermill": {
     "duration": 0.028841,
     "end_time": "2023-06-23T18:14:01.667830",
     "exception": false,
     "start_time": "2023-06-23T18:14:01.638989",
     "status": "completed"
    },
    "tags": []
   },
   "outputs": [],
   "source": [
    "X = train_df.drop(['Target'], axis=1)\n",
    "y = train_df['Target']"
   ]
  },
  {
   "cell_type": "code",
   "execution_count": 8,
   "id": "d3e5972c",
   "metadata": {
    "execution": {
     "iopub.execute_input": "2023-06-23T18:14:01.695502Z",
     "iopub.status.busy": "2023-06-23T18:14:01.695072Z",
     "iopub.status.idle": "2023-06-23T18:14:01.702048Z",
     "shell.execute_reply": "2023-06-23T18:14:01.701252Z"
    },
    "papermill": {
     "duration": 0.023572,
     "end_time": "2023-06-23T18:14:01.704339",
     "exception": false,
     "start_time": "2023-06-23T18:14:01.680767",
     "status": "completed"
    },
    "tags": []
   },
   "outputs": [],
   "source": [
    "X_train, X_val, y_train, y_val = train_test_split(X, y, test_size = 0.1)"
   ]
  },
  {
   "cell_type": "code",
   "execution_count": 9,
   "id": "ec4b3fd5",
   "metadata": {
    "execution": {
     "iopub.execute_input": "2023-06-23T18:14:01.733341Z",
     "iopub.status.busy": "2023-06-23T18:14:01.731956Z",
     "iopub.status.idle": "2023-06-23T18:14:01.741299Z",
     "shell.execute_reply": "2023-06-23T18:14:01.739945Z"
    },
    "papermill": {
     "duration": 0.026274,
     "end_time": "2023-06-23T18:14:01.743783",
     "exception": false,
     "start_time": "2023-06-23T18:14:01.717509",
     "status": "completed"
    },
    "tags": []
   },
   "outputs": [
    {
     "name": "stdout",
     "output_type": "stream",
     "text": [
      "9     453\n",
      "10    420\n",
      "8     402\n",
      "11    335\n",
      "7     246\n",
      "12    184\n",
      "6     183\n",
      "13    147\n",
      "14     84\n",
      "15     71\n",
      "5      68\n",
      "16     45\n",
      "17     38\n",
      "4      37\n",
      "19     25\n",
      "18     25\n",
      "20     20\n",
      "3      11\n",
      "21      9\n",
      "23      5\n",
      "24      2\n",
      "22      2\n",
      "26      1\n",
      "29      1\n",
      "27      1\n",
      "2       1\n",
      "25      1\n",
      "1       1\n",
      "Name: Target, dtype: int64\n"
     ]
    }
   ],
   "source": [
    "print(y_train.value_counts())"
   ]
  },
  {
   "cell_type": "code",
   "execution_count": 10,
   "id": "ab5cad68",
   "metadata": {
    "execution": {
     "iopub.execute_input": "2023-06-23T18:14:01.772356Z",
     "iopub.status.busy": "2023-06-23T18:14:01.771918Z",
     "iopub.status.idle": "2023-06-23T18:14:01.812740Z",
     "shell.execute_reply": "2023-06-23T18:14:01.811622Z"
    },
    "papermill": {
     "duration": 0.058414,
     "end_time": "2023-06-23T18:14:01.815430",
     "exception": false,
     "start_time": "2023-06-23T18:14:01.757016",
     "status": "completed"
    },
    "tags": []
   },
   "outputs": [
    {
     "data": {
      "text/html": [
       "<style>#sk-container-id-1 {color: black;background-color: white;}#sk-container-id-1 pre{padding: 0;}#sk-container-id-1 div.sk-toggleable {background-color: white;}#sk-container-id-1 label.sk-toggleable__label {cursor: pointer;display: block;width: 100%;margin-bottom: 0;padding: 0.3em;box-sizing: border-box;text-align: center;}#sk-container-id-1 label.sk-toggleable__label-arrow:before {content: \"▸\";float: left;margin-right: 0.25em;color: #696969;}#sk-container-id-1 label.sk-toggleable__label-arrow:hover:before {color: black;}#sk-container-id-1 div.sk-estimator:hover label.sk-toggleable__label-arrow:before {color: black;}#sk-container-id-1 div.sk-toggleable__content {max-height: 0;max-width: 0;overflow: hidden;text-align: left;background-color: #f0f8ff;}#sk-container-id-1 div.sk-toggleable__content pre {margin: 0.2em;color: black;border-radius: 0.25em;background-color: #f0f8ff;}#sk-container-id-1 input.sk-toggleable__control:checked~div.sk-toggleable__content {max-height: 200px;max-width: 100%;overflow: auto;}#sk-container-id-1 input.sk-toggleable__control:checked~label.sk-toggleable__label-arrow:before {content: \"▾\";}#sk-container-id-1 div.sk-estimator input.sk-toggleable__control:checked~label.sk-toggleable__label {background-color: #d4ebff;}#sk-container-id-1 div.sk-label input.sk-toggleable__control:checked~label.sk-toggleable__label {background-color: #d4ebff;}#sk-container-id-1 input.sk-hidden--visually {border: 0;clip: rect(1px 1px 1px 1px);clip: rect(1px, 1px, 1px, 1px);height: 1px;margin: -1px;overflow: hidden;padding: 0;position: absolute;width: 1px;}#sk-container-id-1 div.sk-estimator {font-family: monospace;background-color: #f0f8ff;border: 1px dotted black;border-radius: 0.25em;box-sizing: border-box;margin-bottom: 0.5em;}#sk-container-id-1 div.sk-estimator:hover {background-color: #d4ebff;}#sk-container-id-1 div.sk-parallel-item::after {content: \"\";width: 100%;border-bottom: 1px solid gray;flex-grow: 1;}#sk-container-id-1 div.sk-label:hover label.sk-toggleable__label {background-color: #d4ebff;}#sk-container-id-1 div.sk-serial::before {content: \"\";position: absolute;border-left: 1px solid gray;box-sizing: border-box;top: 0;bottom: 0;left: 50%;z-index: 0;}#sk-container-id-1 div.sk-serial {display: flex;flex-direction: column;align-items: center;background-color: white;padding-right: 0.2em;padding-left: 0.2em;position: relative;}#sk-container-id-1 div.sk-item {position: relative;z-index: 1;}#sk-container-id-1 div.sk-parallel {display: flex;align-items: stretch;justify-content: center;background-color: white;position: relative;}#sk-container-id-1 div.sk-item::before, #sk-container-id-1 div.sk-parallel-item::before {content: \"\";position: absolute;border-left: 1px solid gray;box-sizing: border-box;top: 0;bottom: 0;left: 50%;z-index: -1;}#sk-container-id-1 div.sk-parallel-item {display: flex;flex-direction: column;z-index: 1;position: relative;background-color: white;}#sk-container-id-1 div.sk-parallel-item:first-child::after {align-self: flex-end;width: 50%;}#sk-container-id-1 div.sk-parallel-item:last-child::after {align-self: flex-start;width: 50%;}#sk-container-id-1 div.sk-parallel-item:only-child::after {width: 0;}#sk-container-id-1 div.sk-dashed-wrapped {border: 1px dashed gray;margin: 0 0.4em 0.5em 0.4em;box-sizing: border-box;padding-bottom: 0.4em;background-color: white;}#sk-container-id-1 div.sk-label label {font-family: monospace;font-weight: bold;display: inline-block;line-height: 1.2em;}#sk-container-id-1 div.sk-label-container {text-align: center;}#sk-container-id-1 div.sk-container {/* jupyter's `normalize.less` sets `[hidden] { display: none; }` but bootstrap.min.css set `[hidden] { display: none !important; }` so we also need the `!important` here to be able to override the default hidden behavior on the sphinx rendered scikit-learn.org. See: https://github.com/scikit-learn/scikit-learn/issues/21755 */display: inline-block !important;position: relative;}#sk-container-id-1 div.sk-text-repr-fallback {display: none;}</style><div id=\"sk-container-id-1\" class=\"sk-top-container\"><div class=\"sk-text-repr-fallback\"><pre>LinearRegression()</pre><b>In a Jupyter environment, please rerun this cell to show the HTML representation or trust the notebook. <br />On GitHub, the HTML representation is unable to render, please try loading this page with nbviewer.org.</b></div><div class=\"sk-container\" hidden><div class=\"sk-item\"><div class=\"sk-estimator sk-toggleable\"><input class=\"sk-toggleable__control sk-hidden--visually\" id=\"sk-estimator-id-1\" type=\"checkbox\" checked><label for=\"sk-estimator-id-1\" class=\"sk-toggleable__label sk-toggleable__label-arrow\">LinearRegression</label><div class=\"sk-toggleable__content\"><pre>LinearRegression()</pre></div></div></div></div></div>"
      ],
      "text/plain": [
       "LinearRegression()"
      ]
     },
     "execution_count": 10,
     "metadata": {},
     "output_type": "execute_result"
    }
   ],
   "source": [
    "lr=LinearRegression()\n",
    "lr.fit(X_train, y_train)"
   ]
  },
  {
   "cell_type": "code",
   "execution_count": 11,
   "id": "bb57a537",
   "metadata": {
    "execution": {
     "iopub.execute_input": "2023-06-23T18:14:01.844334Z",
     "iopub.status.busy": "2023-06-23T18:14:01.843833Z",
     "iopub.status.idle": "2023-06-23T18:14:01.851350Z",
     "shell.execute_reply": "2023-06-23T18:14:01.849949Z"
    },
    "papermill": {
     "duration": 0.024817,
     "end_time": "2023-06-23T18:14:01.853736",
     "exception": false,
     "start_time": "2023-06-23T18:14:01.828919",
     "status": "completed"
    },
    "tags": []
   },
   "outputs": [],
   "source": [
    "y_pred = lr.predict(X_val)"
   ]
  },
  {
   "cell_type": "code",
   "execution_count": 12,
   "id": "8ba774e9",
   "metadata": {
    "execution": {
     "iopub.execute_input": "2023-06-23T18:14:01.882514Z",
     "iopub.status.busy": "2023-06-23T18:14:01.882141Z",
     "iopub.status.idle": "2023-06-23T18:14:01.889912Z",
     "shell.execute_reply": "2023-06-23T18:14:01.888294Z"
    },
    "papermill": {
     "duration": 0.025039,
     "end_time": "2023-06-23T18:14:01.892299",
     "exception": false,
     "start_time": "2023-06-23T18:14:01.867260",
     "status": "completed"
    },
    "tags": []
   },
   "outputs": [
    {
     "name": "stdout",
     "output_type": "stream",
     "text": [
      "4.9606453670432415\n"
     ]
    }
   ],
   "source": [
    "error= mean_squared_error(y_val, y_pred)\n",
    "print(error)"
   ]
  },
  {
   "cell_type": "code",
   "execution_count": 13,
   "id": "c9f55a88",
   "metadata": {
    "execution": {
     "iopub.execute_input": "2023-06-23T18:14:01.921626Z",
     "iopub.status.busy": "2023-06-23T18:14:01.920596Z",
     "iopub.status.idle": "2023-06-23T18:14:01.935863Z",
     "shell.execute_reply": "2023-06-23T18:14:01.934949Z"
    },
    "papermill": {
     "duration": 0.032647,
     "end_time": "2023-06-23T18:14:01.938389",
     "exception": false,
     "start_time": "2023-06-23T18:14:01.905742",
     "status": "completed"
    },
    "tags": []
   },
   "outputs": [],
   "source": [
    "test_data = pd.read_csv(\"/kaggle/input/practice-hackathon/Test.csv\")"
   ]
  },
  {
   "cell_type": "code",
   "execution_count": 14,
   "id": "72072478",
   "metadata": {
    "execution": {
     "iopub.execute_input": "2023-06-23T18:14:01.968831Z",
     "iopub.status.busy": "2023-06-23T18:14:01.968126Z",
     "iopub.status.idle": "2023-06-23T18:14:01.973676Z",
     "shell.execute_reply": "2023-06-23T18:14:01.972937Z"
    },
    "papermill": {
     "duration": 0.02423,
     "end_time": "2023-06-23T18:14:01.975895",
     "exception": false,
     "start_time": "2023-06-23T18:14:01.951665",
     "status": "completed"
    },
    "tags": []
   },
   "outputs": [
    {
     "data": {
      "text/plain": [
       "(1045, 9)"
      ]
     },
     "execution_count": 14,
     "metadata": {},
     "output_type": "execute_result"
    }
   ],
   "source": [
    "test_data.shape"
   ]
  },
  {
   "cell_type": "code",
   "execution_count": 15,
   "id": "b08b0847",
   "metadata": {
    "execution": {
     "iopub.execute_input": "2023-06-23T18:14:02.005726Z",
     "iopub.status.busy": "2023-06-23T18:14:02.005018Z",
     "iopub.status.idle": "2023-06-23T18:14:02.021387Z",
     "shell.execute_reply": "2023-06-23T18:14:02.020513Z"
    },
    "papermill": {
     "duration": 0.033973,
     "end_time": "2023-06-23T18:14:02.023617",
     "exception": false,
     "start_time": "2023-06-23T18:14:01.989644",
     "status": "completed"
    },
    "tags": []
   },
   "outputs": [
    {
     "data": {
      "text/html": [
       "<div>\n",
       "<style scoped>\n",
       "    .dataframe tbody tr th:only-of-type {\n",
       "        vertical-align: middle;\n",
       "    }\n",
       "\n",
       "    .dataframe tbody tr th {\n",
       "        vertical-align: top;\n",
       "    }\n",
       "\n",
       "    .dataframe thead th {\n",
       "        text-align: right;\n",
       "    }\n",
       "</style>\n",
       "<table border=\"1\" class=\"dataframe\">\n",
       "  <thead>\n",
       "    <tr style=\"text-align: right;\">\n",
       "      <th></th>\n",
       "      <th>Index</th>\n",
       "      <th>A</th>\n",
       "      <th>B</th>\n",
       "      <th>C</th>\n",
       "      <th>D</th>\n",
       "      <th>E</th>\n",
       "      <th>F</th>\n",
       "      <th>G</th>\n",
       "      <th>H</th>\n",
       "    </tr>\n",
       "  </thead>\n",
       "  <tbody>\n",
       "    <tr>\n",
       "      <th>0</th>\n",
       "      <td>866</td>\n",
       "      <td>M</td>\n",
       "      <td>0.605</td>\n",
       "      <td>0.455</td>\n",
       "      <td>0.160</td>\n",
       "      <td>1.1035</td>\n",
       "      <td>0.4210</td>\n",
       "      <td>0.3015</td>\n",
       "      <td>0.325</td>\n",
       "    </tr>\n",
       "    <tr>\n",
       "      <th>1</th>\n",
       "      <td>1483</td>\n",
       "      <td>M</td>\n",
       "      <td>0.590</td>\n",
       "      <td>0.440</td>\n",
       "      <td>0.150</td>\n",
       "      <td>0.8725</td>\n",
       "      <td>0.3870</td>\n",
       "      <td>0.2150</td>\n",
       "      <td>0.245</td>\n",
       "    </tr>\n",
       "    <tr>\n",
       "      <th>2</th>\n",
       "      <td>599</td>\n",
       "      <td>F</td>\n",
       "      <td>0.560</td>\n",
       "      <td>0.445</td>\n",
       "      <td>0.195</td>\n",
       "      <td>0.9810</td>\n",
       "      <td>0.3050</td>\n",
       "      <td>0.2245</td>\n",
       "      <td>0.335</td>\n",
       "    </tr>\n",
       "    <tr>\n",
       "      <th>3</th>\n",
       "      <td>1702</td>\n",
       "      <td>F</td>\n",
       "      <td>0.635</td>\n",
       "      <td>0.490</td>\n",
       "      <td>0.170</td>\n",
       "      <td>1.2615</td>\n",
       "      <td>0.5385</td>\n",
       "      <td>0.2665</td>\n",
       "      <td>0.380</td>\n",
       "    </tr>\n",
       "    <tr>\n",
       "      <th>4</th>\n",
       "      <td>670</td>\n",
       "      <td>M</td>\n",
       "      <td>0.475</td>\n",
       "      <td>0.385</td>\n",
       "      <td>0.145</td>\n",
       "      <td>0.6175</td>\n",
       "      <td>0.2350</td>\n",
       "      <td>0.1080</td>\n",
       "      <td>0.215</td>\n",
       "    </tr>\n",
       "  </tbody>\n",
       "</table>\n",
       "</div>"
      ],
      "text/plain": [
       "   Index  A      B      C      D       E       F       G      H\n",
       "0    866  M  0.605  0.455  0.160  1.1035  0.4210  0.3015  0.325\n",
       "1   1483  M  0.590  0.440  0.150  0.8725  0.3870  0.2150  0.245\n",
       "2    599  F  0.560  0.445  0.195  0.9810  0.3050  0.2245  0.335\n",
       "3   1702  F  0.635  0.490  0.170  1.2615  0.5385  0.2665  0.380\n",
       "4    670  M  0.475  0.385  0.145  0.6175  0.2350  0.1080  0.215"
      ]
     },
     "execution_count": 15,
     "metadata": {},
     "output_type": "execute_result"
    }
   ],
   "source": [
    "test_data.head()"
   ]
  },
  {
   "cell_type": "code",
   "execution_count": 16,
   "id": "9f998214",
   "metadata": {
    "execution": {
     "iopub.execute_input": "2023-06-23T18:14:02.052926Z",
     "iopub.status.busy": "2023-06-23T18:14:02.052255Z",
     "iopub.status.idle": "2023-06-23T18:14:02.057474Z",
     "shell.execute_reply": "2023-06-23T18:14:02.056645Z"
    },
    "papermill": {
     "duration": 0.022367,
     "end_time": "2023-06-23T18:14:02.059663",
     "exception": false,
     "start_time": "2023-06-23T18:14:02.037296",
     "status": "completed"
    },
    "tags": []
   },
   "outputs": [],
   "source": [
    "test_data['A']= label_encoder.fit_transform(test_data['A'])"
   ]
  },
  {
   "cell_type": "code",
   "execution_count": 17,
   "id": "4bf15b79",
   "metadata": {
    "execution": {
     "iopub.execute_input": "2023-06-23T18:14:02.089562Z",
     "iopub.status.busy": "2023-06-23T18:14:02.088917Z",
     "iopub.status.idle": "2023-06-23T18:14:02.094402Z",
     "shell.execute_reply": "2023-06-23T18:14:02.093406Z"
    },
    "papermill": {
     "duration": 0.022933,
     "end_time": "2023-06-23T18:14:02.096572",
     "exception": false,
     "start_time": "2023-06-23T18:14:02.073639",
     "status": "completed"
    },
    "tags": []
   },
   "outputs": [],
   "source": [
    "Index=test_data['Index']\n",
    "test_data.drop(['Index'],axis=1,inplace=True)"
   ]
  },
  {
   "cell_type": "code",
   "execution_count": 18,
   "id": "7bd361bd",
   "metadata": {
    "execution": {
     "iopub.execute_input": "2023-06-23T18:14:02.125580Z",
     "iopub.status.busy": "2023-06-23T18:14:02.125096Z",
     "iopub.status.idle": "2023-06-23T18:14:02.147255Z",
     "shell.execute_reply": "2023-06-23T18:14:02.146096Z"
    },
    "papermill": {
     "duration": 0.039715,
     "end_time": "2023-06-23T18:14:02.149981",
     "exception": false,
     "start_time": "2023-06-23T18:14:02.110266",
     "status": "completed"
    },
    "tags": []
   },
   "outputs": [
    {
     "data": {
      "text/html": [
       "<div>\n",
       "<style scoped>\n",
       "    .dataframe tbody tr th:only-of-type {\n",
       "        vertical-align: middle;\n",
       "    }\n",
       "\n",
       "    .dataframe tbody tr th {\n",
       "        vertical-align: top;\n",
       "    }\n",
       "\n",
       "    .dataframe thead th {\n",
       "        text-align: right;\n",
       "    }\n",
       "</style>\n",
       "<table border=\"1\" class=\"dataframe\">\n",
       "  <thead>\n",
       "    <tr style=\"text-align: right;\">\n",
       "      <th></th>\n",
       "      <th>A</th>\n",
       "      <th>B</th>\n",
       "      <th>C</th>\n",
       "      <th>D</th>\n",
       "      <th>E</th>\n",
       "      <th>F</th>\n",
       "      <th>G</th>\n",
       "      <th>H</th>\n",
       "    </tr>\n",
       "  </thead>\n",
       "  <tbody>\n",
       "    <tr>\n",
       "      <th>0</th>\n",
       "      <td>2</td>\n",
       "      <td>0.605</td>\n",
       "      <td>0.455</td>\n",
       "      <td>0.160</td>\n",
       "      <td>1.1035</td>\n",
       "      <td>0.4210</td>\n",
       "      <td>0.3015</td>\n",
       "      <td>0.325</td>\n",
       "    </tr>\n",
       "    <tr>\n",
       "      <th>1</th>\n",
       "      <td>2</td>\n",
       "      <td>0.590</td>\n",
       "      <td>0.440</td>\n",
       "      <td>0.150</td>\n",
       "      <td>0.8725</td>\n",
       "      <td>0.3870</td>\n",
       "      <td>0.2150</td>\n",
       "      <td>0.245</td>\n",
       "    </tr>\n",
       "    <tr>\n",
       "      <th>2</th>\n",
       "      <td>0</td>\n",
       "      <td>0.560</td>\n",
       "      <td>0.445</td>\n",
       "      <td>0.195</td>\n",
       "      <td>0.9810</td>\n",
       "      <td>0.3050</td>\n",
       "      <td>0.2245</td>\n",
       "      <td>0.335</td>\n",
       "    </tr>\n",
       "    <tr>\n",
       "      <th>3</th>\n",
       "      <td>0</td>\n",
       "      <td>0.635</td>\n",
       "      <td>0.490</td>\n",
       "      <td>0.170</td>\n",
       "      <td>1.2615</td>\n",
       "      <td>0.5385</td>\n",
       "      <td>0.2665</td>\n",
       "      <td>0.380</td>\n",
       "    </tr>\n",
       "    <tr>\n",
       "      <th>4</th>\n",
       "      <td>2</td>\n",
       "      <td>0.475</td>\n",
       "      <td>0.385</td>\n",
       "      <td>0.145</td>\n",
       "      <td>0.6175</td>\n",
       "      <td>0.2350</td>\n",
       "      <td>0.1080</td>\n",
       "      <td>0.215</td>\n",
       "    </tr>\n",
       "    <tr>\n",
       "      <th>...</th>\n",
       "      <td>...</td>\n",
       "      <td>...</td>\n",
       "      <td>...</td>\n",
       "      <td>...</td>\n",
       "      <td>...</td>\n",
       "      <td>...</td>\n",
       "      <td>...</td>\n",
       "      <td>...</td>\n",
       "    </tr>\n",
       "    <tr>\n",
       "      <th>1040</th>\n",
       "      <td>1</td>\n",
       "      <td>0.470</td>\n",
       "      <td>0.370</td>\n",
       "      <td>0.120</td>\n",
       "      <td>0.4705</td>\n",
       "      <td>0.1845</td>\n",
       "      <td>0.1055</td>\n",
       "      <td>0.155</td>\n",
       "    </tr>\n",
       "    <tr>\n",
       "      <th>1041</th>\n",
       "      <td>2</td>\n",
       "      <td>0.580</td>\n",
       "      <td>0.460</td>\n",
       "      <td>0.150</td>\n",
       "      <td>1.0165</td>\n",
       "      <td>0.4910</td>\n",
       "      <td>0.2210</td>\n",
       "      <td>0.265</td>\n",
       "    </tr>\n",
       "    <tr>\n",
       "      <th>1042</th>\n",
       "      <td>2</td>\n",
       "      <td>0.635</td>\n",
       "      <td>0.510</td>\n",
       "      <td>0.185</td>\n",
       "      <td>1.3080</td>\n",
       "      <td>0.5440</td>\n",
       "      <td>0.3180</td>\n",
       "      <td>0.377</td>\n",
       "    </tr>\n",
       "    <tr>\n",
       "      <th>1043</th>\n",
       "      <td>2</td>\n",
       "      <td>0.460</td>\n",
       "      <td>0.375</td>\n",
       "      <td>0.140</td>\n",
       "      <td>0.5105</td>\n",
       "      <td>0.1920</td>\n",
       "      <td>0.1045</td>\n",
       "      <td>0.205</td>\n",
       "    </tr>\n",
       "    <tr>\n",
       "      <th>1044</th>\n",
       "      <td>0</td>\n",
       "      <td>0.530</td>\n",
       "      <td>0.385</td>\n",
       "      <td>0.125</td>\n",
       "      <td>0.6695</td>\n",
       "      <td>0.2890</td>\n",
       "      <td>0.1510</td>\n",
       "      <td>0.180</td>\n",
       "    </tr>\n",
       "  </tbody>\n",
       "</table>\n",
       "<p>1045 rows × 8 columns</p>\n",
       "</div>"
      ],
      "text/plain": [
       "      A      B      C      D       E       F       G      H\n",
       "0     2  0.605  0.455  0.160  1.1035  0.4210  0.3015  0.325\n",
       "1     2  0.590  0.440  0.150  0.8725  0.3870  0.2150  0.245\n",
       "2     0  0.560  0.445  0.195  0.9810  0.3050  0.2245  0.335\n",
       "3     0  0.635  0.490  0.170  1.2615  0.5385  0.2665  0.380\n",
       "4     2  0.475  0.385  0.145  0.6175  0.2350  0.1080  0.215\n",
       "...  ..    ...    ...    ...     ...     ...     ...    ...\n",
       "1040  1  0.470  0.370  0.120  0.4705  0.1845  0.1055  0.155\n",
       "1041  2  0.580  0.460  0.150  1.0165  0.4910  0.2210  0.265\n",
       "1042  2  0.635  0.510  0.185  1.3080  0.5440  0.3180  0.377\n",
       "1043  2  0.460  0.375  0.140  0.5105  0.1920  0.1045  0.205\n",
       "1044  0  0.530  0.385  0.125  0.6695  0.2890  0.1510  0.180\n",
       "\n",
       "[1045 rows x 8 columns]"
      ]
     },
     "execution_count": 18,
     "metadata": {},
     "output_type": "execute_result"
    }
   ],
   "source": [
    "test_data"
   ]
  },
  {
   "cell_type": "code",
   "execution_count": 19,
   "id": "403f1f80",
   "metadata": {
    "execution": {
     "iopub.execute_input": "2023-06-23T18:14:02.179807Z",
     "iopub.status.busy": "2023-06-23T18:14:02.179387Z",
     "iopub.status.idle": "2023-06-23T18:14:02.186729Z",
     "shell.execute_reply": "2023-06-23T18:14:02.185582Z"
    },
    "papermill": {
     "duration": 0.024897,
     "end_time": "2023-06-23T18:14:02.189071",
     "exception": false,
     "start_time": "2023-06-23T18:14:02.164174",
     "status": "completed"
    },
    "tags": []
   },
   "outputs": [],
   "source": [
    "y_test = lr.predict(test_data)"
   ]
  },
  {
   "cell_type": "code",
   "execution_count": 20,
   "id": "06cf1954",
   "metadata": {
    "execution": {
     "iopub.execute_input": "2023-06-23T18:14:02.219422Z",
     "iopub.status.busy": "2023-06-23T18:14:02.219011Z",
     "iopub.status.idle": "2023-06-23T18:14:02.226505Z",
     "shell.execute_reply": "2023-06-23T18:14:02.225476Z"
    },
    "papermill": {
     "duration": 0.025332,
     "end_time": "2023-06-23T18:14:02.228730",
     "exception": false,
     "start_time": "2023-06-23T18:14:02.203398",
     "status": "completed"
    },
    "tags": []
   },
   "outputs": [],
   "source": [
    "result = pd.DataFrame(Index, columns = ['Index'])\n",
    "result['Target']= y_test\n"
   ]
  },
  {
   "cell_type": "code",
   "execution_count": 21,
   "id": "f4a1c901",
   "metadata": {
    "execution": {
     "iopub.execute_input": "2023-06-23T18:14:02.258819Z",
     "iopub.status.busy": "2023-06-23T18:14:02.258094Z",
     "iopub.status.idle": "2023-06-23T18:14:02.269539Z",
     "shell.execute_reply": "2023-06-23T18:14:02.268498Z"
    },
    "papermill": {
     "duration": 0.029152,
     "end_time": "2023-06-23T18:14:02.271989",
     "exception": false,
     "start_time": "2023-06-23T18:14:02.242837",
     "status": "completed"
    },
    "tags": []
   },
   "outputs": [
    {
     "data": {
      "text/html": [
       "<div>\n",
       "<style scoped>\n",
       "    .dataframe tbody tr th:only-of-type {\n",
       "        vertical-align: middle;\n",
       "    }\n",
       "\n",
       "    .dataframe tbody tr th {\n",
       "        vertical-align: top;\n",
       "    }\n",
       "\n",
       "    .dataframe thead th {\n",
       "        text-align: right;\n",
       "    }\n",
       "</style>\n",
       "<table border=\"1\" class=\"dataframe\">\n",
       "  <thead>\n",
       "    <tr style=\"text-align: right;\">\n",
       "      <th></th>\n",
       "      <th>Index</th>\n",
       "      <th>Target</th>\n",
       "    </tr>\n",
       "  </thead>\n",
       "  <tbody>\n",
       "    <tr>\n",
       "      <th>0</th>\n",
       "      <td>866</td>\n",
       "      <td>11.743354</td>\n",
       "    </tr>\n",
       "    <tr>\n",
       "      <th>1</th>\n",
       "      <td>1483</td>\n",
       "      <td>10.088435</td>\n",
       "    </tr>\n",
       "    <tr>\n",
       "      <th>2</th>\n",
       "      <td>599</td>\n",
       "      <td>13.934069</td>\n",
       "    </tr>\n",
       "    <tr>\n",
       "      <th>3</th>\n",
       "      <td>1702</td>\n",
       "      <td>11.929282</td>\n",
       "    </tr>\n",
       "    <tr>\n",
       "      <th>4</th>\n",
       "      <td>670</td>\n",
       "      <td>10.915419</td>\n",
       "    </tr>\n",
       "    <tr>\n",
       "      <th>...</th>\n",
       "      <td>...</td>\n",
       "      <td>...</td>\n",
       "    </tr>\n",
       "    <tr>\n",
       "      <th>1040</th>\n",
       "      <td>532</td>\n",
       "      <td>9.561130</td>\n",
       "    </tr>\n",
       "    <tr>\n",
       "      <th>1041</th>\n",
       "      <td>3417</td>\n",
       "      <td>9.609139</td>\n",
       "    </tr>\n",
       "    <tr>\n",
       "      <th>1042</th>\n",
       "      <td>1505</td>\n",
       "      <td>12.319918</td>\n",
       "    </tr>\n",
       "    <tr>\n",
       "      <th>1043</th>\n",
       "      <td>2245</td>\n",
       "      <td>10.625307</td>\n",
       "    </tr>\n",
       "    <tr>\n",
       "      <th>1044</th>\n",
       "      <td>2428</td>\n",
       "      <td>9.145065</td>\n",
       "    </tr>\n",
       "  </tbody>\n",
       "</table>\n",
       "<p>1045 rows × 2 columns</p>\n",
       "</div>"
      ],
      "text/plain": [
       "      Index     Target\n",
       "0       866  11.743354\n",
       "1      1483  10.088435\n",
       "2       599  13.934069\n",
       "3      1702  11.929282\n",
       "4       670  10.915419\n",
       "...     ...        ...\n",
       "1040    532   9.561130\n",
       "1041   3417   9.609139\n",
       "1042   1505  12.319918\n",
       "1043   2245  10.625307\n",
       "1044   2428   9.145065\n",
       "\n",
       "[1045 rows x 2 columns]"
      ]
     },
     "execution_count": 21,
     "metadata": {},
     "output_type": "execute_result"
    }
   ],
   "source": [
    "result"
   ]
  },
  {
   "cell_type": "code",
   "execution_count": 22,
   "id": "bb3fc66c",
   "metadata": {
    "execution": {
     "iopub.execute_input": "2023-06-23T18:14:02.302098Z",
     "iopub.status.busy": "2023-06-23T18:14:02.301647Z",
     "iopub.status.idle": "2023-06-23T18:14:02.317156Z",
     "shell.execute_reply": "2023-06-23T18:14:02.315917Z"
    },
    "papermill": {
     "duration": 0.033602,
     "end_time": "2023-06-23T18:14:02.319723",
     "exception": false,
     "start_time": "2023-06-23T18:14:02.286121",
     "status": "completed"
    },
    "tags": []
   },
   "outputs": [],
   "source": [
    "result.to_csv(\"submission1.csv\", index=False) #(for making submission file)"
   ]
  },
  {
   "cell_type": "markdown",
   "id": "a370e708",
   "metadata": {
    "papermill": {
     "duration": 0.013747,
     "end_time": "2023-06-23T18:14:02.347816",
     "exception": false,
     "start_time": "2023-06-23T18:14:02.334069",
     "status": "completed"
    },
    "tags": []
   },
   "source": [
    "RidgeRegressionApproach"
   ]
  },
  {
   "cell_type": "code",
   "execution_count": 23,
   "id": "825cc72f",
   "metadata": {
    "execution": {
     "iopub.execute_input": "2023-06-23T18:14:02.377461Z",
     "iopub.status.busy": "2023-06-23T18:14:02.377043Z",
     "iopub.status.idle": "2023-06-23T18:14:02.382228Z",
     "shell.execute_reply": "2023-06-23T18:14:02.381098Z"
    },
    "papermill": {
     "duration": 0.022684,
     "end_time": "2023-06-23T18:14:02.384409",
     "exception": false,
     "start_time": "2023-06-23T18:14:02.361725",
     "status": "completed"
    },
    "tags": []
   },
   "outputs": [],
   "source": [
    "from sklearn.linear_model import Ridge\n",
    "from sklearn.model_selection import GridSearchCV"
   ]
  },
  {
   "cell_type": "markdown",
   "id": "81641524",
   "metadata": {
    "papermill": {
     "duration": 0.013711,
     "end_time": "2023-06-23T18:14:02.412307",
     "exception": false,
     "start_time": "2023-06-23T18:14:02.398596",
     "status": "completed"
    },
    "tags": []
   },
   "source": []
  },
  {
   "cell_type": "code",
   "execution_count": 24,
   "id": "9f81dd13",
   "metadata": {
    "execution": {
     "iopub.execute_input": "2023-06-23T18:14:02.442313Z",
     "iopub.status.busy": "2023-06-23T18:14:02.441857Z",
     "iopub.status.idle": "2023-06-23T18:14:02.447272Z",
     "shell.execute_reply": "2023-06-23T18:14:02.446035Z"
    },
    "papermill": {
     "duration": 0.023307,
     "end_time": "2023-06-23T18:14:02.449702",
     "exception": false,
     "start_time": "2023-06-23T18:14:02.426395",
     "status": "completed"
    },
    "tags": []
   },
   "outputs": [],
   "source": [
    "ridge_regressor=Ridge()"
   ]
  },
  {
   "cell_type": "code",
   "execution_count": 25,
   "id": "a76b3159",
   "metadata": {
    "execution": {
     "iopub.execute_input": "2023-06-23T18:14:02.480383Z",
     "iopub.status.busy": "2023-06-23T18:14:02.479974Z",
     "iopub.status.idle": "2023-06-23T18:14:02.758557Z",
     "shell.execute_reply": "2023-06-23T18:14:02.757190Z"
    },
    "papermill": {
     "duration": 0.296943,
     "end_time": "2023-06-23T18:14:02.761395",
     "exception": false,
     "start_time": "2023-06-23T18:14:02.464452",
     "status": "completed"
    },
    "tags": []
   },
   "outputs": [
    {
     "data": {
      "text/html": [
       "<style>#sk-container-id-2 {color: black;background-color: white;}#sk-container-id-2 pre{padding: 0;}#sk-container-id-2 div.sk-toggleable {background-color: white;}#sk-container-id-2 label.sk-toggleable__label {cursor: pointer;display: block;width: 100%;margin-bottom: 0;padding: 0.3em;box-sizing: border-box;text-align: center;}#sk-container-id-2 label.sk-toggleable__label-arrow:before {content: \"▸\";float: left;margin-right: 0.25em;color: #696969;}#sk-container-id-2 label.sk-toggleable__label-arrow:hover:before {color: black;}#sk-container-id-2 div.sk-estimator:hover label.sk-toggleable__label-arrow:before {color: black;}#sk-container-id-2 div.sk-toggleable__content {max-height: 0;max-width: 0;overflow: hidden;text-align: left;background-color: #f0f8ff;}#sk-container-id-2 div.sk-toggleable__content pre {margin: 0.2em;color: black;border-radius: 0.25em;background-color: #f0f8ff;}#sk-container-id-2 input.sk-toggleable__control:checked~div.sk-toggleable__content {max-height: 200px;max-width: 100%;overflow: auto;}#sk-container-id-2 input.sk-toggleable__control:checked~label.sk-toggleable__label-arrow:before {content: \"▾\";}#sk-container-id-2 div.sk-estimator input.sk-toggleable__control:checked~label.sk-toggleable__label {background-color: #d4ebff;}#sk-container-id-2 div.sk-label input.sk-toggleable__control:checked~label.sk-toggleable__label {background-color: #d4ebff;}#sk-container-id-2 input.sk-hidden--visually {border: 0;clip: rect(1px 1px 1px 1px);clip: rect(1px, 1px, 1px, 1px);height: 1px;margin: -1px;overflow: hidden;padding: 0;position: absolute;width: 1px;}#sk-container-id-2 div.sk-estimator {font-family: monospace;background-color: #f0f8ff;border: 1px dotted black;border-radius: 0.25em;box-sizing: border-box;margin-bottom: 0.5em;}#sk-container-id-2 div.sk-estimator:hover {background-color: #d4ebff;}#sk-container-id-2 div.sk-parallel-item::after {content: \"\";width: 100%;border-bottom: 1px solid gray;flex-grow: 1;}#sk-container-id-2 div.sk-label:hover label.sk-toggleable__label {background-color: #d4ebff;}#sk-container-id-2 div.sk-serial::before {content: \"\";position: absolute;border-left: 1px solid gray;box-sizing: border-box;top: 0;bottom: 0;left: 50%;z-index: 0;}#sk-container-id-2 div.sk-serial {display: flex;flex-direction: column;align-items: center;background-color: white;padding-right: 0.2em;padding-left: 0.2em;position: relative;}#sk-container-id-2 div.sk-item {position: relative;z-index: 1;}#sk-container-id-2 div.sk-parallel {display: flex;align-items: stretch;justify-content: center;background-color: white;position: relative;}#sk-container-id-2 div.sk-item::before, #sk-container-id-2 div.sk-parallel-item::before {content: \"\";position: absolute;border-left: 1px solid gray;box-sizing: border-box;top: 0;bottom: 0;left: 50%;z-index: -1;}#sk-container-id-2 div.sk-parallel-item {display: flex;flex-direction: column;z-index: 1;position: relative;background-color: white;}#sk-container-id-2 div.sk-parallel-item:first-child::after {align-self: flex-end;width: 50%;}#sk-container-id-2 div.sk-parallel-item:last-child::after {align-self: flex-start;width: 50%;}#sk-container-id-2 div.sk-parallel-item:only-child::after {width: 0;}#sk-container-id-2 div.sk-dashed-wrapped {border: 1px dashed gray;margin: 0 0.4em 0.5em 0.4em;box-sizing: border-box;padding-bottom: 0.4em;background-color: white;}#sk-container-id-2 div.sk-label label {font-family: monospace;font-weight: bold;display: inline-block;line-height: 1.2em;}#sk-container-id-2 div.sk-label-container {text-align: center;}#sk-container-id-2 div.sk-container {/* jupyter's `normalize.less` sets `[hidden] { display: none; }` but bootstrap.min.css set `[hidden] { display: none !important; }` so we also need the `!important` here to be able to override the default hidden behavior on the sphinx rendered scikit-learn.org. See: https://github.com/scikit-learn/scikit-learn/issues/21755 */display: inline-block !important;position: relative;}#sk-container-id-2 div.sk-text-repr-fallback {display: none;}</style><div id=\"sk-container-id-2\" class=\"sk-top-container\"><div class=\"sk-text-repr-fallback\"><pre>GridSearchCV(cv=5, estimator=Ridge(),\n",
       "             param_grid={&#x27;alpha&#x27;: [0.1, 0.01, 0.001, 1, 10, 0.5, 0.51, 0.75,\n",
       "                                   0.52, 0.515]},\n",
       "             scoring=&#x27;neg_mean_squared_error&#x27;)</pre><b>In a Jupyter environment, please rerun this cell to show the HTML representation or trust the notebook. <br />On GitHub, the HTML representation is unable to render, please try loading this page with nbviewer.org.</b></div><div class=\"sk-container\" hidden><div class=\"sk-item sk-dashed-wrapped\"><div class=\"sk-label-container\"><div class=\"sk-label sk-toggleable\"><input class=\"sk-toggleable__control sk-hidden--visually\" id=\"sk-estimator-id-2\" type=\"checkbox\" ><label for=\"sk-estimator-id-2\" class=\"sk-toggleable__label sk-toggleable__label-arrow\">GridSearchCV</label><div class=\"sk-toggleable__content\"><pre>GridSearchCV(cv=5, estimator=Ridge(),\n",
       "             param_grid={&#x27;alpha&#x27;: [0.1, 0.01, 0.001, 1, 10, 0.5, 0.51, 0.75,\n",
       "                                   0.52, 0.515]},\n",
       "             scoring=&#x27;neg_mean_squared_error&#x27;)</pre></div></div></div><div class=\"sk-parallel\"><div class=\"sk-parallel-item\"><div class=\"sk-item\"><div class=\"sk-label-container\"><div class=\"sk-label sk-toggleable\"><input class=\"sk-toggleable__control sk-hidden--visually\" id=\"sk-estimator-id-3\" type=\"checkbox\" ><label for=\"sk-estimator-id-3\" class=\"sk-toggleable__label sk-toggleable__label-arrow\">estimator: Ridge</label><div class=\"sk-toggleable__content\"><pre>Ridge()</pre></div></div></div><div class=\"sk-serial\"><div class=\"sk-item\"><div class=\"sk-estimator sk-toggleable\"><input class=\"sk-toggleable__control sk-hidden--visually\" id=\"sk-estimator-id-4\" type=\"checkbox\" ><label for=\"sk-estimator-id-4\" class=\"sk-toggleable__label sk-toggleable__label-arrow\">Ridge</label><div class=\"sk-toggleable__content\"><pre>Ridge()</pre></div></div></div></div></div></div></div></div></div></div>"
      ],
      "text/plain": [
       "GridSearchCV(cv=5, estimator=Ridge(),\n",
       "             param_grid={'alpha': [0.1, 0.01, 0.001, 1, 10, 0.5, 0.51, 0.75,\n",
       "                                   0.52, 0.515]},\n",
       "             scoring='neg_mean_squared_error')"
      ]
     },
     "execution_count": 25,
     "metadata": {},
     "output_type": "execute_result"
    }
   ],
   "source": [
    "parameters={'alpha':[10**(-1),10**(-2),10**(-3),1,10,0.5,0.51,0.75,0.52,0.515,]}\n",
    "ridgecv=GridSearchCV(ridge_regressor,parameters,scoring='neg_mean_squared_error',cv=5)\n",
    "ridgecv.fit(X_train,y_train)"
   ]
  },
  {
   "cell_type": "code",
   "execution_count": 26,
   "id": "bc7659d0",
   "metadata": {
    "execution": {
     "iopub.execute_input": "2023-06-23T18:14:02.792459Z",
     "iopub.status.busy": "2023-06-23T18:14:02.792082Z",
     "iopub.status.idle": "2023-06-23T18:14:02.799185Z",
     "shell.execute_reply": "2023-06-23T18:14:02.797539Z"
    },
    "papermill": {
     "duration": 0.025555,
     "end_time": "2023-06-23T18:14:02.801630",
     "exception": false,
     "start_time": "2023-06-23T18:14:02.776075",
     "status": "completed"
    },
    "tags": []
   },
   "outputs": [
    {
     "name": "stdout",
     "output_type": "stream",
     "text": [
      "{'alpha': 0.75}\n"
     ]
    }
   ],
   "source": [
    "print(ridgecv.best_params_)"
   ]
  },
  {
   "cell_type": "code",
   "execution_count": 27,
   "id": "476e66ce",
   "metadata": {
    "execution": {
     "iopub.execute_input": "2023-06-23T18:14:02.834793Z",
     "iopub.status.busy": "2023-06-23T18:14:02.833355Z",
     "iopub.status.idle": "2023-06-23T18:14:02.842335Z",
     "shell.execute_reply": "2023-06-23T18:14:02.840469Z"
    },
    "papermill": {
     "duration": 0.028164,
     "end_time": "2023-06-23T18:14:02.844860",
     "exception": false,
     "start_time": "2023-06-23T18:14:02.816696",
     "status": "completed"
    },
    "tags": []
   },
   "outputs": [
    {
     "name": "stdout",
     "output_type": "stream",
     "text": [
      "-5.034176634574688\n"
     ]
    }
   ],
   "source": [
    "print(ridgecv.best_score_)"
   ]
  },
  {
   "cell_type": "code",
   "execution_count": 28,
   "id": "c3aea6b4",
   "metadata": {
    "execution": {
     "iopub.execute_input": "2023-06-23T18:14:02.875704Z",
     "iopub.status.busy": "2023-06-23T18:14:02.875325Z",
     "iopub.status.idle": "2023-06-23T18:14:02.882440Z",
     "shell.execute_reply": "2023-06-23T18:14:02.881250Z"
    },
    "papermill": {
     "duration": 0.025218,
     "end_time": "2023-06-23T18:14:02.884791",
     "exception": false,
     "start_time": "2023-06-23T18:14:02.859573",
     "status": "completed"
    },
    "tags": []
   },
   "outputs": [],
   "source": [
    "ridge_pred=ridgecv.predict(X_val)"
   ]
  },
  {
   "cell_type": "code",
   "execution_count": 29,
   "id": "97a37b2a",
   "metadata": {
    "execution": {
     "iopub.execute_input": "2023-06-23T18:14:02.915883Z",
     "iopub.status.busy": "2023-06-23T18:14:02.915493Z",
     "iopub.status.idle": "2023-06-23T18:14:03.637844Z",
     "shell.execute_reply": "2023-06-23T18:14:03.637057Z"
    },
    "papermill": {
     "duration": 0.740672,
     "end_time": "2023-06-23T18:14:03.640065",
     "exception": false,
     "start_time": "2023-06-23T18:14:02.899393",
     "status": "completed"
    },
    "tags": []
   },
   "outputs": [
    {
     "data": {
      "text/plain": [
       "<seaborn.axisgrid.FacetGrid at 0x7bc26ef9e020>"
      ]
     },
     "execution_count": 29,
     "metadata": {},
     "output_type": "execute_result"
    },
    {
     "data": {
      "image/png": "[encoded data removed]",
      "text/plain": [
       "<Figure size 500x500 with 1 Axes>"
      ]
     },
     "metadata": {},
     "output_type": "display_data"
    }
   ],
   "source": [
    "import seaborn as sns\n",
    "sns.displot(ridge_pred-y_val,kind='kde')"
   ]
  },
  {
   "cell_type": "code",
   "execution_count": 30,
   "id": "77ac7d2f",
   "metadata": {
    "execution": {
     "iopub.execute_input": "2023-06-23T18:14:03.672755Z",
     "iopub.status.busy": "2023-06-23T18:14:03.672085Z",
     "iopub.status.idle": "2023-06-23T18:14:03.676967Z",
     "shell.execute_reply": "2023-06-23T18:14:03.675798Z"
    },
    "papermill": {
     "duration": 0.023887,
     "end_time": "2023-06-23T18:14:03.679279",
     "exception": false,
     "start_time": "2023-06-23T18:14:03.655392",
     "status": "completed"
    },
    "tags": []
   },
   "outputs": [],
   "source": [
    "from sklearn.metrics import r2_score"
   ]
  },
  {
   "cell_type": "code",
   "execution_count": 31,
   "id": "91b33fec",
   "metadata": {
    "execution": {
     "iopub.execute_input": "2023-06-23T18:14:03.711672Z",
     "iopub.status.busy": "2023-06-23T18:14:03.711246Z",
     "iopub.status.idle": "2023-06-23T18:14:03.719309Z",
     "shell.execute_reply": "2023-06-23T18:14:03.718213Z"
    },
    "papermill": {
     "duration": 0.026827,
     "end_time": "2023-06-23T18:14:03.721582",
     "exception": false,
     "start_time": "2023-06-23T18:14:03.694755",
     "status": "completed"
    },
    "tags": []
   },
   "outputs": [
    {
     "data": {
      "text/plain": [
       "0.010047041790115507"
      ]
     },
     "execution_count": 31,
     "metadata": {},
     "output_type": "execute_result"
    }
   ],
   "source": [
    "score= r2_score(ridge_pred,y_val)\n",
    "score"
   ]
  },
  {
   "cell_type": "code",
   "execution_count": 32,
   "id": "d23cdd8a",
   "metadata": {
    "execution": {
     "iopub.execute_input": "2023-06-23T18:14:03.754530Z",
     "iopub.status.busy": "2023-06-23T18:14:03.754096Z",
     "iopub.status.idle": "2023-06-23T18:14:03.761627Z",
     "shell.execute_reply": "2023-06-23T18:14:03.760494Z"
    },
    "papermill": {
     "duration": 0.026604,
     "end_time": "2023-06-23T18:14:03.764002",
     "exception": false,
     "start_time": "2023-06-23T18:14:03.737398",
     "status": "completed"
    },
    "tags": []
   },
   "outputs": [],
   "source": [
    "ridge_pred_test=ridgecv.predict(test_data)"
   ]
  },
  {
   "cell_type": "code",
   "execution_count": 33,
   "id": "6a2b395c",
   "metadata": {
    "execution": {
     "iopub.execute_input": "2023-06-23T18:14:03.796525Z",
     "iopub.status.busy": "2023-06-23T18:14:03.796110Z",
     "iopub.status.idle": "2023-06-23T18:14:03.811010Z",
     "shell.execute_reply": "2023-06-23T18:14:03.810237Z"
    },
    "papermill": {
     "duration": 0.033634,
     "end_time": "2023-06-23T18:14:03.813056",
     "exception": false,
     "start_time": "2023-06-23T18:14:03.779422",
     "status": "completed"
    },
    "tags": []
   },
   "outputs": [
    {
     "data": {
      "text/html": [
       "<div>\n",
       "<style scoped>\n",
       "    .dataframe tbody tr th:only-of-type {\n",
       "        vertical-align: middle;\n",
       "    }\n",
       "\n",
       "    .dataframe tbody tr th {\n",
       "        vertical-align: top;\n",
       "    }\n",
       "\n",
       "    .dataframe thead th {\n",
       "        text-align: right;\n",
       "    }\n",
       "</style>\n",
       "<table border=\"1\" class=\"dataframe\">\n",
       "  <thead>\n",
       "    <tr style=\"text-align: right;\">\n",
       "      <th></th>\n",
       "      <th>Index</th>\n",
       "      <th>Target</th>\n",
       "    </tr>\n",
       "  </thead>\n",
       "  <tbody>\n",
       "    <tr>\n",
       "      <th>0</th>\n",
       "      <td>866</td>\n",
       "      <td>11.870779</td>\n",
       "    </tr>\n",
       "    <tr>\n",
       "      <th>1</th>\n",
       "      <td>1483</td>\n",
       "      <td>10.221579</td>\n",
       "    </tr>\n",
       "    <tr>\n",
       "      <th>2</th>\n",
       "      <td>599</td>\n",
       "      <td>13.611620</td>\n",
       "    </tr>\n",
       "    <tr>\n",
       "      <th>3</th>\n",
       "      <td>1702</td>\n",
       "      <td>11.963701</td>\n",
       "    </tr>\n",
       "    <tr>\n",
       "      <th>4</th>\n",
       "      <td>670</td>\n",
       "      <td>10.656566</td>\n",
       "    </tr>\n",
       "    <tr>\n",
       "      <th>...</th>\n",
       "      <td>...</td>\n",
       "      <td>...</td>\n",
       "    </tr>\n",
       "    <tr>\n",
       "      <th>1040</th>\n",
       "      <td>532</td>\n",
       "      <td>9.488405</td>\n",
       "    </tr>\n",
       "    <tr>\n",
       "      <th>1041</th>\n",
       "      <td>3417</td>\n",
       "      <td>9.646983</td>\n",
       "    </tr>\n",
       "    <tr>\n",
       "      <th>1042</th>\n",
       "      <td>1505</td>\n",
       "      <td>12.271473</td>\n",
       "    </tr>\n",
       "    <tr>\n",
       "      <th>1043</th>\n",
       "      <td>2245</td>\n",
       "      <td>10.446466</td>\n",
       "    </tr>\n",
       "    <tr>\n",
       "      <th>1044</th>\n",
       "      <td>2428</td>\n",
       "      <td>9.270008</td>\n",
       "    </tr>\n",
       "  </tbody>\n",
       "</table>\n",
       "<p>1045 rows × 2 columns</p>\n",
       "</div>"
      ],
      "text/plain": [
       "      Index     Target\n",
       "0       866  11.870779\n",
       "1      1483  10.221579\n",
       "2       599  13.611620\n",
       "3      1702  11.963701\n",
       "4       670  10.656566\n",
       "...     ...        ...\n",
       "1040    532   9.488405\n",
       "1041   3417   9.646983\n",
       "1042   1505  12.271473\n",
       "1043   2245  10.446466\n",
       "1044   2428   9.270008\n",
       "\n",
       "[1045 rows x 2 columns]"
      ]
     },
     "execution_count": 33,
     "metadata": {},
     "output_type": "execute_result"
    }
   ],
   "source": [
    "result_rr = pd.DataFrame(Index, columns = ['Index'])\n",
    "result_rr['Target']=ridge_pred_test\n",
    "result_rr"
   ]
  },
  {
   "cell_type": "markdown",
   "id": "0b006451",
   "metadata": {
    "papermill": {
     "duration": 0.015325,
     "end_time": "2023-06-23T18:14:03.844010",
     "exception": false,
     "start_time": "2023-06-23T18:14:03.828685",
     "status": "completed"
    },
    "tags": []
   },
   "source": [
    "SVRM"
   ]
  },
  {
   "cell_type": "code",
   "execution_count": 34,
   "id": "1617e314",
   "metadata": {
    "execution": {
     "iopub.execute_input": "2023-06-23T18:14:03.877488Z",
     "iopub.status.busy": "2023-06-23T18:14:03.876949Z",
     "iopub.status.idle": "2023-06-23T18:14:23.981882Z",
     "shell.execute_reply": "2023-06-23T18:14:23.980743Z"
    },
    "papermill": {
     "duration": 20.124706,
     "end_time": "2023-06-23T18:14:23.984335",
     "exception": false,
     "start_time": "2023-06-23T18:14:03.859629",
     "status": "completed"
    },
    "tags": []
   },
   "outputs": [
    {
     "data": {
      "text/html": [
       "<div>\n",
       "<style scoped>\n",
       "    .dataframe tbody tr th:only-of-type {\n",
       "        vertical-align: middle;\n",
       "    }\n",
       "\n",
       "    .dataframe tbody tr th {\n",
       "        vertical-align: top;\n",
       "    }\n",
       "\n",
       "    .dataframe thead th {\n",
       "        text-align: right;\n",
       "    }\n",
       "</style>\n",
       "<table border=\"1\" class=\"dataframe\">\n",
       "  <thead>\n",
       "    <tr style=\"text-align: right;\">\n",
       "      <th></th>\n",
       "      <th>c</th>\n",
       "      <th>epsilon</th>\n",
       "      <th>correlation</th>\n",
       "    </tr>\n",
       "  </thead>\n",
       "  <tbody>\n",
       "    <tr>\n",
       "      <th>24</th>\n",
       "      <td>1000.0</td>\n",
       "      <td>1.0</td>\n",
       "      <td>0.757490</td>\n",
       "    </tr>\n",
       "    <tr>\n",
       "      <th>25</th>\n",
       "      <td>1000.0</td>\n",
       "      <td>0.1</td>\n",
       "      <td>0.754750</td>\n",
       "    </tr>\n",
       "    <tr>\n",
       "      <th>18</th>\n",
       "      <td>100.0</td>\n",
       "      <td>1.0</td>\n",
       "      <td>0.753339</td>\n",
       "    </tr>\n",
       "  </tbody>\n",
       "</table>\n",
       "</div>"
      ],
      "text/plain": [
       "         c  epsilon  correlation\n",
       "24  1000.0      1.0     0.757490\n",
       "25  1000.0      0.1     0.754750\n",
       "18   100.0      1.0     0.753339"
      ]
     },
     "execution_count": 34,
     "metadata": {},
     "output_type": "execute_result"
    }
   ],
   "source": [
    "#Support Vector Regression Implementation\n",
    "from sklearn.svm import SVR\n",
    "C_vals = [0.1,1,10,100,1000]                   #providing values for hypertuning\n",
    "eps_vals = [1,0.1,0.01,0.001,0.0001,0.00001]\n",
    "\n",
    "from scipy import stats\n",
    "parameters = []\n",
    "parameter_cols =  ['c','epsilon','correlation']\n",
    "for C in C_vals:\n",
    "    for epsilon in eps_vals:\n",
    "        model = SVR(kernel='rbf', C=C, epsilon=epsilon)\n",
    "        svr = model.fit(X_train, y_train)\n",
    "        y_pred = model.predict(X_val)\n",
    "        c = stats.pearsonr(y_val,y_pred)[0]\n",
    "        parameters.append([C,epsilon,c])\n",
    "\n",
    "#printing parameters in decending order\n",
    "parameter_df = pd.DataFrame(parameters,columns= parameter_cols)\n",
    "parameter_df = parameter_df.sort_values(by=['correlation'], ascending=False)\n",
    "parameter_df.head(3)"
   ]
  },
  {
   "cell_type": "code",
   "execution_count": 35,
   "id": "9d0e6081",
   "metadata": {
    "execution": {
     "iopub.execute_input": "2023-06-23T18:14:24.018363Z",
     "iopub.status.busy": "2023-06-23T18:14:24.017972Z",
     "iopub.status.idle": "2023-06-23T18:14:24.815117Z",
     "shell.execute_reply": "2023-06-23T18:14:24.813951Z"
    },
    "papermill": {
     "duration": 0.817186,
     "end_time": "2023-06-23T18:14:24.817470",
     "exception": false,
     "start_time": "2023-06-23T18:14:24.000284",
     "status": "completed"
    },
    "tags": []
   },
   "outputs": [
    {
     "data": {
      "text/plain": [
       "4.66401929011203"
      ]
     },
     "execution_count": 35,
     "metadata": {},
     "output_type": "execute_result"
    }
   ],
   "source": [
    "from sklearn.svm import SVR\n",
    "\n",
    "model_svr = SVR(kernel='rbf', C=parameter_df.iloc[0,0], epsilon=parameter_df.iloc[0,1])   #Training data on the most appropriate paramenters\n",
    "svr = model_svr.fit(X_train, y_train)\n",
    "y_pred_svr = model_svr.predict(X_val)\n",
    "\n",
    "#Finding MSE of prediction with training target\n",
    "err = mean_squared_error(y_pred_svr, y_val)\n",
    "err"
   ]
  },
  {
   "cell_type": "code",
   "execution_count": 36,
   "id": "0b5fd0fd",
   "metadata": {
    "execution": {
     "iopub.execute_input": "2023-06-23T18:14:24.852130Z",
     "iopub.status.busy": "2023-06-23T18:14:24.851493Z",
     "iopub.status.idle": "2023-06-23T18:14:24.938625Z",
     "shell.execute_reply": "2023-06-23T18:14:24.937473Z"
    },
    "papermill": {
     "duration": 0.107722,
     "end_time": "2023-06-23T18:14:24.941242",
     "exception": false,
     "start_time": "2023-06-23T18:14:24.833520",
     "status": "completed"
    },
    "tags": []
   },
   "outputs": [],
   "source": [
    "svr_pred_test=model_svr.predict(test_data)"
   ]
  },
  {
   "cell_type": "code",
   "execution_count": 37,
   "id": "b9536a0d",
   "metadata": {
    "execution": {
     "iopub.execute_input": "2023-06-23T18:14:24.975387Z",
     "iopub.status.busy": "2023-06-23T18:14:24.974980Z",
     "iopub.status.idle": "2023-06-23T18:14:24.989996Z",
     "shell.execute_reply": "2023-06-23T18:14:24.988922Z"
    },
    "papermill": {
     "duration": 0.035093,
     "end_time": "2023-06-23T18:14:24.992424",
     "exception": false,
     "start_time": "2023-06-23T18:14:24.957331",
     "status": "completed"
    },
    "tags": []
   },
   "outputs": [
    {
     "data": {
      "text/html": [
       "<div>\n",
       "<style scoped>\n",
       "    .dataframe tbody tr th:only-of-type {\n",
       "        vertical-align: middle;\n",
       "    }\n",
       "\n",
       "    .dataframe tbody tr th {\n",
       "        vertical-align: top;\n",
       "    }\n",
       "\n",
       "    .dataframe thead th {\n",
       "        text-align: right;\n",
       "    }\n",
       "</style>\n",
       "<table border=\"1\" class=\"dataframe\">\n",
       "  <thead>\n",
       "    <tr style=\"text-align: right;\">\n",
       "      <th></th>\n",
       "      <th>Index</th>\n",
       "      <th>Target</th>\n",
       "    </tr>\n",
       "  </thead>\n",
       "  <tbody>\n",
       "    <tr>\n",
       "      <th>0</th>\n",
       "      <td>866</td>\n",
       "      <td>12.031369</td>\n",
       "    </tr>\n",
       "    <tr>\n",
       "      <th>1</th>\n",
       "      <td>1483</td>\n",
       "      <td>9.481473</td>\n",
       "    </tr>\n",
       "    <tr>\n",
       "      <th>2</th>\n",
       "      <td>599</td>\n",
       "      <td>14.793463</td>\n",
       "    </tr>\n",
       "    <tr>\n",
       "      <th>3</th>\n",
       "      <td>1702</td>\n",
       "      <td>11.265735</td>\n",
       "    </tr>\n",
       "    <tr>\n",
       "      <th>4</th>\n",
       "      <td>670</td>\n",
       "      <td>11.440022</td>\n",
       "    </tr>\n",
       "    <tr>\n",
       "      <th>...</th>\n",
       "      <td>...</td>\n",
       "      <td>...</td>\n",
       "    </tr>\n",
       "    <tr>\n",
       "      <th>1040</th>\n",
       "      <td>532</td>\n",
       "      <td>8.812741</td>\n",
       "    </tr>\n",
       "    <tr>\n",
       "      <th>1041</th>\n",
       "      <td>3417</td>\n",
       "      <td>9.200184</td>\n",
       "    </tr>\n",
       "    <tr>\n",
       "      <th>1042</th>\n",
       "      <td>1505</td>\n",
       "      <td>11.772766</td>\n",
       "    </tr>\n",
       "    <tr>\n",
       "      <th>1043</th>\n",
       "      <td>2245</td>\n",
       "      <td>11.469851</td>\n",
       "    </tr>\n",
       "    <tr>\n",
       "      <th>1044</th>\n",
       "      <td>2428</td>\n",
       "      <td>9.439058</td>\n",
       "    </tr>\n",
       "  </tbody>\n",
       "</table>\n",
       "<p>1045 rows × 2 columns</p>\n",
       "</div>"
      ],
      "text/plain": [
       "      Index     Target\n",
       "0       866  12.031369\n",
       "1      1483   9.481473\n",
       "2       599  14.793463\n",
       "3      1702  11.265735\n",
       "4       670  11.440022\n",
       "...     ...        ...\n",
       "1040    532   8.812741\n",
       "1041   3417   9.200184\n",
       "1042   1505  11.772766\n",
       "1043   2245  11.469851\n",
       "1044   2428   9.439058\n",
       "\n",
       "[1045 rows x 2 columns]"
      ]
     },
     "execution_count": 37,
     "metadata": {},
     "output_type": "execute_result"
    }
   ],
   "source": [
    "result_svr = pd.DataFrame(Index, columns = ['Index'])\n",
    "result_svr['Target']= svr_pred_test\n",
    "result_svr"
   ]
  }
 ],
 "metadata": {
  "kernelspec": {
   "display_name": "Python 3",
   "language": "python",
   "name": "python3"
  },
  "language_info": {
   "codemirror_mode": {
    "name": "ipython",
    "version": 3
   },
   "file_extension": ".py",
   "mimetype": "text/x-python",
   "name": "python",
   "nbconvert_exporter": "python",
   "pygments_lexer": "ipython3",
   "version": "3.10.10"
  },
  "papermill": {
   "default_parameters": {},
   "duration": 38.802004,
   "end_time": "2023-06-23T18:14:26.031448",
   "environment_variables": {},
   "exception": null,
   "input_path": "__notebook__.ipynb",
   "output_path": "__notebook__.ipynb",
   "parameters": {},
   "start_time": "2023-06-23T18:13:47.229444",
   "version": "2.4.0"
  }
 },
 "nbformat": 4,
 "nbformat_minor": 5
}
